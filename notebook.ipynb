{
 "cells": [
  {
   "cell_type": "markdown",
   "metadata": {},
   "source": [
    "This notebook is designed to showcase the power of [lvlspy](https://pypi.org/project/lvlspy/) as an API by using it replicate the results from [Gupta and Meyer](https://journals.aps.org/prc/abstract/10.1103/PhysRevC.64.025805). The paper focuses on calculating the equilibration rate between the isomeric state and the ground state of $^{26}\\mathrm{Al}$. The methods built into [lvlspy](https://pypi.org/project/lvlspy/) are based on that publication.\n",
    "\n",
    "To kick things off, we will install any missing packages required for lvlspy and import all the packages required for this notebook. Most are built-in or installed as a dependency for lvlspy."
   ]
  },
  {
   "cell_type": "code",
   "execution_count": null,
   "metadata": {},
   "outputs": [],
   "source": [
    "#importing system libraries\n",
    "import sys,subprocess,importlib.util, io, requests\n",
    "\n",
    "#checking and installing required packages\n",
    "required  = {'lvlspy','matplotlib','tabulate'}\n",
    "installed = {pkg for pkg in required if importlib.util.find_spec(pkg) is not None}\n",
    "missing = required - installed\n",
    "\n",
    "if missing:\n",
    "    subprocess.check_call([sys.executable,'-m','pip','install','--quiet',*missing])\n",
    "\n",
    "#import libraries and modules\n",
    "\n",
    "import heapq\n",
    "import tabulate\n",
    "import numpy as np\n",
    "import lvlspy.spcoll as lc\n",
    "import lvlspy.transition as lt\n",
    "import matplotlib.pyplot as plt\n",
    "import matplotlib.animation as animation\n",
    "\n",
    "from lvlspy.io import ensdf,xml\n",
    "from collections import defaultdict\n",
    "from IPython.display import HTML, display, Math\n",
    "from lvlspy.calculate import isomer, evolve, Weisskopf"
   ]
  },
  {
   "cell_type": "markdown",
   "metadata": {},
   "source": [
    "Now that all the packages are installed and imported, let us download and load into lvlspy an ENSDF file that contains AL26 data. A copy has been uploaded to [OSF](https://osf.io/76qc3) for ease of automation. "
   ]
  },
  {
   "cell_type": "code",
   "execution_count": null,
   "metadata": {},
   "outputs": [],
   "source": [
    "!curl -o ensdf.026 -JL https://osf.io/76qc3/download #Downloads the ENSDF file containing Al26 data\n",
    "\n",
    "new_coll = lc.SpColl() #creates a new lvlspy collection\n",
    "ensdf.update_from_ensdf(new_coll,'ensdf.026','al26') #loads the selected species from the file into the collection"
   ]
  },
  {
   "cell_type": "markdown",
   "metadata": {},
   "source": [
    "Now let's be sure the file was read and print out the first few levels and their properties"
   ]
  },
  {
   "cell_type": "code",
   "execution_count": null,
   "metadata": {},
   "outputs": [],
   "source": [
    "al26 = new_coll.get()['al26'] #extracts the species from the collection and sets it as its own object\n",
    "\n",
    "print('Species: ' + al26.get_name())\n",
    "print('Level Index        Energy (keV)        Multiplicity        ENSDF JPI')\n",
    "levels = al26.get_levels()\n",
    "\n",
    "for i in range(6):\n",
    "    energy = levels[i].get_energy()\n",
    "    multip = levels[i].get_multiplicity()\n",
    "    ensdfjp = levels[i].get_properties()['j^pi']\n",
    "    print(str(i).center(11) + '        ' + str(energy).center(12) + '        ' + str(multip).center(12) + '        ' + ensdfjp.center(9))"
   ]
  },
  {
   "cell_type": "markdown",
   "metadata": {},
   "source": [
    "Any experienced user of the ENSDF records will tell you how it's incomplete. Specifically how levels have undefined multiplicities. The API will load those levels but assign a property of \"useability\". If this is set to False, that infers that the level is not useable. For example, let us consider level of index 24 to illustrate:"
   ]
  },
  {
   "cell_type": "code",
   "execution_count": null,
   "metadata": {},
   "outputs": [],
   "source": [
    "print('Energy (keV): ', levels[24].get_energy())\n",
    "print('Multiplicity: ', levels[24].get_multiplicity())\n",
    "prop = levels[24].get_properties()\n",
    "for p in prop:\n",
    "    print(p,levels[24].get_properties()[p])"
   ]
  },
  {
   "cell_type": "markdown",
   "metadata": {},
   "source": [
    "As the output shows, the API has assigned a multiplicity by taking the first option in the list. This is due to the fact that to create a levels object, a clear multiplicity is mandatory. If one is left blank in the record, the integer of 1000 is assigned and the 'useability' is set to False.  The 'useability' property is used by the API that something is wrong. This level cannot have clear transitions defined to or from it without some form of averaging, which we will use. But first we must prune the levels that don't have a $J^{\\pi}$ defined at all."
   ]
  },
  {
   "cell_type": "code",
   "execution_count": null,
   "metadata": {},
   "outputs": [],
   "source": [
    "print('number of levels before pruning: ',len(levels))\n",
    "ensdf.remove_undefined_levels(al26) #remove the levels that have no Jpi defined\n",
    "levels = al26.get_levels()\n",
    "print('number of levels after pruning: ',len(levels)) "
   ]
  },
  {
   "cell_type": "markdown",
   "metadata": {},
   "source": [
    "Out of the 214 levels read in from the ENSDF record, 185 have at least some form of $J^{\\pi}$ defined.\n",
    "In the Gupta and Meyer paper, they only used 67 levels and modified some of the transitions' reduced matrix coefficients extracted from [Coc et al](https://journals.aps.org/prc/abstract/10.1103/PhysRevC.61.015801). We will trim the loaded the loaded levels and transitions, then update the reduced matrix coefficients for the specific transitions."
   ]
  },
  {
   "cell_type": "code",
   "execution_count": null,
   "metadata": {},
   "outputs": [],
   "source": [
    "#here we trim the levels from level 67 till the end keeping levels 0 through 66.\n",
    "#the API will automatically remove the transitions associated with the removed\n",
    "#levels.\n",
    "\n",
    "for i in range(67,len(levels)):\n",
    "    al26.remove_level(levels[i])\n",
    "levels = al26.get_levels()\n",
    "print(len(levels))"
   ]
  },
  {
   "cell_type": "markdown",
   "metadata": {},
   "source": [
    "Some level to level transitions don't exist in the ENSDF record. In the case of $^{26}\\mathrm{Al}$, one example is from the isomer state to the ground as indicated by the True boolean below."
   ]
  },
  {
   "cell_type": "code",
   "execution_count": null,
   "metadata": {},
   "outputs": [],
   "source": [
    "t = al26.get_level_to_level_transition(levels[1],levels[0])\n",
    "print(t is None)"
   ]
  },
  {
   "cell_type": "markdown",
   "metadata": {},
   "source": [
    "Since this transition is important to have for such calculations, we will add it and fill in any missing transitions between the remaining levelsmanually. To fill the missing transitions, we can the built in API that will create the missing transiton and calculate an associated Einstein A coefficient based on a Weisskopf esitimate."
   ]
  },
  {
   "cell_type": "code",
   "execution_count": null,
   "metadata": {},
   "outputs": [],
   "source": [
    "ensdf.fill_missing_ensdf_transitions(al26,26)\n",
    "t = al26.get_level_to_level_transition(levels[1],levels[0])\n",
    "print('Upper_level = ', levels.index(t.get_upper_level()), 'to lower level = ', levels.index(t.get_lower_level()), 'with Einstein A coefficient: ', t.get_einstein_a())"
   ]
  },
  {
   "cell_type": "markdown",
   "metadata": {},
   "source": [
    "Now that one of the important transitions has been created, we'll update some of the transitions. The data from Coc et al. has been listed in the comments in the cell below. If the transtition didn't exist from the record, we will create it first."
   ]
  },
  {
   "cell_type": "code",
   "execution_count": null,
   "metadata": {},
   "outputs": [],
   "source": [
    "#let's create an iterable list involving the new used from Coc et al.\n",
    "#2 -> 1 BM3W = 1206\n",
    "#2 -> 0 BE2W = 36\n",
    "#3 -> 2 BE2W = 5.8\n",
    "#3 -> 1 BM1W = 9.7\n",
    "\n",
    "new_data = [(2,1,'BM3W',1206),(2,0,'BE2W',36),(3,2,'BE2W',5.8),(3,1,'BM1W',2.76)]\n",
    "for i in new_data:\n",
    "    t = al26.get_level_to_level_transition(levels[i[0]],levels[i[1]])\n",
    "    if t is None:\n",
    "        t = lt.Transition(levels[i[0]],levels[i[1]],0.0)\n",
    "        e = [levels[i[0]].get_energy(),levels[i[1]].get_energy()]\n",
    "        j = [(levels[i[0]].get_multiplicity() - 1)//2, (levels[i[1]].get_multiplicity() - 1)//2]\n",
    "        p = [levels[i[0]].get_properties()['parity'],levels[i[1]].get_properties()['parity']]\n",
    "        al26.add_transition(t)\n",
    "\n",
    "    rmc = [(i[2],i[3])]\n",
    "    ensdf.update_reduced_matrix_coefficient(al26,26,t,rmc)"
   ]
  },
  {
   "cell_type": "markdown",
   "metadata": {},
   "source": [
    "Now that the data has been fully trimmed and updated as shown from above, let us replicate figure 1 from Gupta and Meyer."
   ]
  },
  {
   "cell_type": "code",
   "execution_count": null,
   "metadata": {},
   "outputs": [],
   "source": [
    "T = np.logspace(8,10) #setting the temperature array\n",
    "\n",
    "#initializing the rate arrays\n",
    "l_10 = np.empty(len(T))\n",
    "l_01 = np.empty(len(T))\n",
    "\n",
    "for i,t in enumerate(T):\n",
    "    l_01[i], l_10[i] = isomer.effective_rate(t,al26)\n",
    "\n",
    "#Set the fontsize and graph\n",
    "fontsize = 24\n",
    "\n",
    "plt.figure(figsize = (8,8))\n",
    "plt.rcParams['font.size'] = fontsize\n",
    "plt.xscale('log')\n",
    "plt.yscale('log')\n",
    "\n",
    "plt.ylim([1.e-15,1.e+15])\n",
    "plt.xlim([np.min(T)/1e+9,np.max(T)/1e+9])\n",
    "\n",
    "plt.plot(T/1e+9,l_10,color = 'red',linewidth = 3,label = 'Isomerization Rate')\n",
    "\n",
    "plt.ylabel(r'$\\mathrm{\\lambda_{10}^{eff} [s^{-1}]}$')\n",
    "plt.xlabel(r'$\\mathrm{T_{9}}$')\n",
    "\n",
    "plt.yticks([1e-15,1e-10,1e-5,1e0,1e+5,1e+10,1e+15])\n",
    "\n",
    "plt.axhline(y = 0.158,ls = '--',color = 'black',label = r'$0^{+}$ state $\\beta^{-}$ Decay Rate')#Al26 beta-decay rate\n",
    "\n",
    "plt.legend(loc = 'lower right')\n",
    "plt.show()"
   ]
  },
  {
   "cell_type": "markdown",
   "metadata": {},
   "source": [
    "The difference between the label is due to an indexing choice. In the paper, the label the ground and isomeric states 1 and 2 respectively. Throughout this notebook, we'll follow the python indexing for simplicity. There is also a missing curve from the graph that's not in the figure that we will address now.\n",
    "\n",
    "Let's say you want see which levels are affecting the isomerization rate the most. lvlspy allows us to remove and levels and add levels easily. We will do this to test the importance certain transitions have on the entire isomerization rate."
   ]
  },
  {
   "cell_type": "code",
   "execution_count": null,
   "metadata": {},
   "outputs": [],
   "source": [
    "#re-using the previous graph with the original calculation\n",
    "\n",
    "plt.figure(figsize = (8,8))\n",
    "plt.rcParams['font.size'] = fontsize\n",
    "plt.xscale('log')\n",
    "plt.yscale('log')\n",
    "\n",
    "plt.ylim([1.e-15,1.e+15])\n",
    "plt.xlim([np.min(T)/1e+9,np.max(T)/1e+9])\n",
    "\n",
    "plt.plot(T/1e+9,l_10,linewidth = 2,label = 'All Transitions')\n",
    "\n",
    "plt.ylabel(r'$\\mathrm{\\lambda_{10}^{eff} [s^{-1}]}$')\n",
    "plt.xlabel(r'$\\mathrm{T_{9}}$')\n",
    "\n",
    "plt.yticks([1e-15,1e-10,1e-5,1e0,1e+5,1e+10,1e+15])\n",
    "\n",
    "plt.axhline(y = 1.e-1,ls = '--',color = 'black',label = r'$0^{+}$ state $\\beta^{-}$ Decay Rate')\n",
    "\n",
    "#removing transitions, graphing the result, then returning it before removing the next\n",
    "levels = al26.get_levels()\n",
    "for i in range(2,6):\n",
    "    t_remove = al26.get_level_to_level_transition(levels[i],levels[1])\n",
    "    #removing the transition\n",
    "    if t_remove is not None:\n",
    "        al26.remove_transition(t_remove)\n",
    "        lambda_10_eff = np.empty(len(T))\n",
    "        lambda_01_eff = np.empty(len(T)) \n",
    "        for j,t in enumerate(T):\n",
    "            lambda_01_eff[j],lambda_10_eff[j] = isomer.effective_rate(t,al26)\n",
    "        #adding it back after the calculations\n",
    "        al26.add_transition(t_remove)\n",
    "        plt.plot(T/1e+9,lambda_10_eff,linewidth = 2,label = 'Transition '+str(i)+ ' to 1 disabled')\n",
    "\n",
    "plt.legend(loc = 'center left',bbox_to_anchor=(1,0.5))\n",
    "plt.show()"
   ]
  },
  {
   "cell_type": "markdown",
   "metadata": {},
   "source": [
    "The transitions that most affect the isomerization rate are 2 $\\rightarrow$ 1 and 3 $\\rightarrow$ 1. As the graph makes clear, a simple loop can allow any theorist to probe around which transitions are important to the overall effective rate. A powerful tool to help guide both theorists and experimentalists alike.\n",
    "\n",
    "Now let's analyze the fugacity of the system. Fugacity here deviates away from the pressure definition it uses in thermodynamics, but the term was appropriated due to its description of a state's abundance likeliness to jump to another state with less fugacity. If two states have the same fugacity, they will not exchange abundances. Equilibrium is established when all states have the same fugacity of one."
   ]
  },
  {
   "cell_type": "code",
   "execution_count": null,
   "metadata": {},
   "outputs": [],
   "source": [
    "#setting up the initial conditions\n",
    "y0 = np.zeros(len(levels))\n",
    "y0[0] = 1.0 #setting the total abundance at the ground state\n",
    "\n",
    "#resetting the temperature\n",
    "T = 5e+9 #in K\n",
    "\n",
    "#setting up the time array to be integrated over\n",
    "time = np.logspace(-15,-10,200)\n",
    "\n",
    "y,fug = evolve.newton_raphson(al26,T,y0,time) #the method evolves the abundances and fugacities within the same method\n",
    "\n",
    "eq_prob = al26.compute_equilibrium_probabilities(T) #computes the equilibrium probabilites"
   ]
  },
  {
   "cell_type": "markdown",
   "metadata": {},
   "source": [
    "We plot the mass fraction evolution of the first 10 levels:"
   ]
  },
  {
   "cell_type": "code",
   "execution_count": null,
   "metadata": {},
   "outputs": [],
   "source": [
    "plt.figure(figsize = (8,8))\n",
    "plt.rcParams['font.size'] = fontsize\n",
    "for i in range(10):\n",
    "    plt.plot(time,y[i,:],label = 'Level ' + str(i))\n",
    "\n",
    "plt.gca().set_prop_cycle(None)  # Reset the color cycle to align equilibria with network solutions.\n",
    "\n",
    "for i in range(10):\n",
    "    plt.plot(time[-1], eq_prob[i], 'x')\n",
    "\n",
    "plt.xscale('log')\n",
    "\n",
    "plt.legend(loc = 'center left',bbox_to_anchor=(1,0.5))\n",
    "\n",
    "plt.show()"
   ]
  },
  {
   "cell_type": "markdown",
   "metadata": {},
   "source": [
    "We plot their fugacity evolution. The fugacity of a level is the abundance's tendency to leave one level into the other. The higher the fugacity, the more likely you are to leave. Two levels are in equilibrium if they have the same fugacity, and the whole system is said to be in equilibrium when the fugacity of each level is equal to 1."
   ]
  },
  {
   "cell_type": "code",
   "execution_count": null,
   "metadata": {},
   "outputs": [],
   "source": [
    "#plotting the fugacities\n",
    "\n",
    "plt.figure(figsize = (8,8))\n",
    "plt.rcParams['font.size'] = fontsize\n",
    "\n",
    "for i in range(10):\n",
    "    plt.plot(time,fug[i,:],label = 'Level '+str(i))\n",
    "\n",
    "plt.xscale('log')\n",
    "#plt.ylim([1e-25,1.25])\n",
    "plt.xlim([min(time), max(time)])\n",
    "plt.ylabel(r'Fugacity ($\\phi$)')\n",
    "plt.legend(loc = 'center left',bbox_to_anchor=(1,0.5))\n",
    "\n",
    "plt.show()"
   ]
  },
  {
   "cell_type": "markdown",
   "metadata": {},
   "source": [
    "To view how all the levels would behave, it would be prudent to animate the fugacity as a function of time"
   ]
  },
  {
   "cell_type": "code",
   "execution_count": null,
   "metadata": {},
   "outputs": [],
   "source": [
    "fig = plt.figure(figsize = (8,8))\n",
    "\n",
    "#extract energies from the levels in the xml\n",
    "E = np.empty(len(levels))\n",
    "for i in range(len(E)):\n",
    "    E[i] = levels[i].get_energy(units = 'MeV')\n",
    "\n",
    "def updatefig(i):\n",
    "    fig.clear()\n",
    "    fig.suptitle(r'time (s): %8.2e; $T_{9}$ = %4.2f' %(time[i],T/1e+9))\n",
    "    plt.scatter(fug[0,i],E[0],color = 'green') #ground state\n",
    "    plt.scatter(fug[1,i],E[1],color = 'red') #isomer\n",
    "    plt.scatter(fug[2:len(E)-1,i],E[2:len(E)-1],color = 'black')\n",
    "    plt.axvline(x = fug[0,i],color = 'green')\n",
    "    plt.axvline(x = fug[1,i],color = 'red')\n",
    "    plt.xlabel(r'$\\phi$')\n",
    "    plt.ylabel('E (MeV)')\n",
    "    plt.xscale('log')\n",
    "    plt.xlim([1e-15,1.5])\n",
    "    plt.draw()\n",
    "\n",
    "anim = animation.FuncAnimation(fig,updatefig,len(time))\n",
    "display(HTML(anim.to_jshtml()))\n",
    "plt.close() #closes the last frame"
   ]
  },
  {
   "cell_type": "markdown",
   "metadata": {},
   "source": [
    "All the levels evolve between the fugacities of the ground state and the isomer. As states evolve to the same fugacity, they would then evolve as an ensemble. The system at this temperature reaches equilibrium at around 1.2 $\\times\\mathrm{10^{-10}}$ s.\n",
    "\n",
    "The effective rate could be understood via a combinatorial interpretation. The expression $(f_{1}^{in})^{T}(I - F^{T})^{-1}f_{2}^{out}$ from $\\lambda_{21}^{eff}$ is actually the effective branching ratio in terms of Graph Theory. The \"cascade probability vectors\" are defined as $\\Gamma_{q}^{in} = (I - F)^{-1}f_{q}^{in}$. The term cascade refers to the de-excitation from higher states into state 'q'. The paper also defines the 'infinite'-arc generalization of $f_{q}^{out}$ with $\\Gamma_{q}^{out} = (I - F^{T})^{-1}f_{q}^{out}$. They then go through the proof to rewrite $\\lambda_{21}^{eff} = (\\lambda_{2}^{out})^{T}\\Gamma_{1}^{in}$. Here we sample over temperatures chosen in table 4 from the paper to compare the values of $W_{1}(T)$, $W_{2}(T)$, $G_{1}(T)$, and $G_{2}(T)$, as well as $\\lambda_{21}^{eff}$."
   ]
  },
  {
   "cell_type": "code",
   "execution_count": null,
   "metadata": {},
   "outputs": [],
   "source": [
    "t9 = np.array([0.0100,0.0125,0.0150,0.0175,0.0200,0.0250,0.0300,0.0400,0.0500,0.0600,0.0700,0.0800,0.0900,0.1,\n",
    "               0.125,0.15,0.175,0.2,0.25,0.3,0.4,0.5,0.6,0.7,0.8,0.9,1.0,1.25,1.5,1.75,2.0,2.5,3.0,4.0,5.0,6.0,7.0,8.0,9.0,10.0])\n",
    "n = len(t9)\n",
    "\n",
    "table = np.empty((n,6))\n",
    "\n",
    "for i in range(n):\n",
    "    table[i,0],t_9 = t9[i], t9[i]*1e+9\n",
    "    w_1,w_2,table[i,2],table[i,3],R_1k,R_2k,table[i,4],table[i,5] = isomer.ensemble_weights(t_9,al26)\n",
    "    l12,table[i,1] = isomer.effective_rate(t_9,al26)\n",
    "\n",
    "display(Math(r'\\;\\;\\;\\;\\;\\;T_{9} \\;\\;\\;\\;\\;\\;\\;\\lambda_{21}^{eff} (s^{-1})\\;\\;\\;\\;\\;  W_{1}(T)\\;\\;\\;\\;\\;\\; W_{2}(T)\\;\\;\\;\\;\\;\\; G_{1}(T)\\;\\;\\;\\;\\;\\;\\;G_{2}(T) '))\n",
    "display(HTML(tabulate.tabulate(table,tablefmt='html',floatfmt=('.4f','.5e','.6f','.6f','.5f','.6f'))))"
   ]
  },
  {
   "cell_type": "markdown",
   "metadata": {},
   "source": [
    "The table starts deviating from table 4 in [Gupta and Meyer](https://journals.aps.org/prc/abstract/10.1103/PhysRevC.64.025805) at $\\mathrm{T_{9}}$ of 0.9. This is due to the the updated ENSDF record used for the higher levels"
   ]
  },
  {
   "cell_type": "code",
   "execution_count": null,
   "metadata": {},
   "outputs": [],
   "source": [
    "class Graph:\n",
    "    def __init__(self):\n",
    "        self.adj_list = defaultdict(dict)  # Adjacency list representation\n",
    "\n",
    "    def add_edge(self, u, v, weight):\n",
    "        self.adj_list[u][v] = weight  # Directed edge\n",
    "\n",
    "    def remove_edge(self, u, v):\n",
    "        if v in self.adj_list[u]:\n",
    "            del self.adj_list[u][v]\n",
    "\n",
    "    def dijkstra(self, source, target, limit = 5):\n",
    "        \"\"\"Finds the shortest path from source to target using Dijkstra’s algorithm.\"\"\"\n",
    "        pq = [(0, source, [])]  # (cost, node, path)\n",
    "        visited = set()\n",
    "\n",
    "        while pq:\n",
    "            cost, node, path = heapq.heappop(pq)\n",
    "\n",
    "            if path.count(node) > limit:  # Limit how many times a node can be visited\n",
    "                continue\n",
    "            visited.add(node)\n",
    "\n",
    "            path = path + [node]\n",
    "\n",
    "            if node == target:\n",
    "                return path, cost\n",
    "\n",
    "            for neighbor, weight in self.adj_list[node].items():\n",
    "                if neighbor not in visited:\n",
    "                    heapq.heappush(pq, (cost + weight, neighbor, path))\n",
    "\n",
    "        return None, float(\"inf\")  # No path found\n",
    "\n",
    "    def yen_k_shortest_paths(self, source, target, K=5):\n",
    "        \"\"\"Finds the K shortest paths from source to target using Yen's Algorithm.\"\"\"\n",
    "        shortest_paths = []\n",
    "        candidates = []\n",
    "\n",
    "        # First shortest path using Dijkstra\n",
    "        first_path, first_cost = self.dijkstra(source, target)\n",
    "        if not first_path:\n",
    "            return []\n",
    "\n",
    "        shortest_paths.append((first_path, first_cost))\n",
    "\n",
    "        for k in range(1, K):\n",
    "            for i in range(len(shortest_paths[k - 1][0]) - 1):\n",
    "                spur_node = shortest_paths[k - 1][0][i]\n",
    "                root_path = shortest_paths[k - 1][0][:i + 1]\n",
    "\n",
    "                # Make a temporary copy of the graph\n",
    "                modified_graph = {node: neighbors.copy() for node, neighbors in self.adj_list.items()}\n",
    "\n",
    "                # Remove edges that were part of previous paths\n",
    "                for path, _ in shortest_paths:\n",
    "                    if path[:i + 1] == root_path and len(path) > i + 1:\n",
    "                        if path[i + 1] in modified_graph[path[i]]:\n",
    "                            del modified_graph[path[i]][path[i + 1]]\n",
    "\n",
    "                # Run Dijkstra from spur node\n",
    "                temp_graph = Graph()\n",
    "                temp_graph.adj_list = modified_graph\n",
    "                spur_path, spur_cost = temp_graph.dijkstra(spur_node, target)\n",
    "\n",
    "                if spur_path:\n",
    "                    total_path = root_path[:-1] + spur_path\n",
    "                    total_cost = sum(self.adj_list[u][v] for u, v in zip(total_path[:-1], total_path[1:])) + spur_cost\n",
    "                    candidates.append((total_path, total_cost))\n",
    "\n",
    "            if not candidates:\n",
    "                break\n",
    "\n",
    "            candidates.sort(key=lambda x: x[1])\n",
    "            shortest_paths.append(candidates.pop(0))\n",
    "\n",
    "        shortest_paths.sort(key = lambda x:x[1])\n",
    "        return shortest_paths"
   ]
  },
  {
   "cell_type": "code",
   "execution_count": null,
   "metadata": {},
   "outputs": [],
   "source": [
    "graph = Graph()\n",
    "\n",
    "# Adding bidirectional edges with different weights\n",
    "transitions = al26.get_transitions()\n",
    "rate_matrix = al26.compute_rate_matrix(5e+9)\n",
    "\n",
    "for t in transitions: #fill in the graph edges\n",
    "    i_upper = levels.index(t.get_upper_level())\n",
    "    i_lower = levels.index(t.get_lower_level())\n",
    "\n",
    "    graph.add_edge(i_upper,i_lower,1/(rate_matrix[i_lower,i_upper] + 1e-300))#the 1e-300 is to avoid any 0 issues\n",
    "    graph.add_edge(i_lower,i_upper,1/(rate_matrix[i_upper,i_lower] + 1e-300))\n",
    "\n",
    "# Find 5 shortest paths from 1 to 0\n",
    "k_paths = graph.yen_k_shortest_paths(1, 0, K=5)\n",
    "\n",
    "# Print results\n",
    "for i, (path, cost) in enumerate(k_paths):\n",
    "    print(f\"Path {i+1}: {path} with cost {cost}\")"
   ]
  },
  {
   "cell_type": "code",
   "execution_count": null,
   "metadata": {},
   "outputs": [],
   "source": [
    "#graphing the 5 shortest paths based on weight\n",
    "plt.figure(figsize = (10,10))\n",
    "plt.rcParams['font.size'] = 15\n",
    "\n",
    "tick_labels = []\n",
    "tick_values = []\n",
    "\n",
    "colors = ['black','blue','red','orange','purple']#add more colors if you're looking at more than 5 paths\n",
    "for j,(path,weight) in enumerate(k_paths):\n",
    "    plot_legend = []\n",
    "    n_path = len(path) #total number of transitions\n",
    "    max_energy = max(path) #index of maximum energy level for transition\n",
    "    \n",
    "    for i,en in enumerate(path):\n",
    "        energy = levels[path[i]].get_energy()\n",
    "        J = int((levels[path[i]].get_multiplicity() - 1)//2)\n",
    "        \n",
    "        #to avoid line and label duplicates in the plot\n",
    "        if '('+str(energy) + ', '+str(en)+', '+str(J) +')' not in tick_labels and energy not in tick_values:\n",
    "            \n",
    "            plt.axhline(y = energy,color = 'black')\n",
    "            tick_labels.append('('+str(energy) + ', '+str(en)+', '+str(J)+levels[path[i]].get_properties()['parity']+')')\n",
    "            tick_values.append(energy)\n",
    "    \n",
    "\n",
    "\n",
    "    for i in range(n_path-1):\n",
    "        en_f = levels[path[i+1]].get_energy()\n",
    "        en_i = levels[path[i]].get_energy()\n",
    "        delta_E =  en_f - en_i \n",
    "        \n",
    "        if i != n_path-2:\n",
    "            plot_legend.append(path[i])\n",
    "            plt.arrow((i+j)/(n_path-1),en_i,1/(n_path - 1),delta_E,color = colors[j],width = 0.0125,length_includes_head = True, \n",
    "                    head_length = 100,head_width = 0.1) \n",
    "        else:\n",
    "            plot_legend.append(path[i])\n",
    "            plot_legend.append(path[i+1])\n",
    "            plt.arrow((i+j)/(n_path-1),en_i,1/(n_path - 1),delta_E,color = colors[j],width = 0.0125,length_includes_head = True, \n",
    "                    head_length = 100,head_width = 0.1,label = 'path: '+str(plot_legend)+' , weight = %3.4e'%(weight)) \n",
    "\n",
    "plt.yticks(ticks = tick_values,labels = tick_labels)\n",
    "plt.tick_params(axis = 'x', which ='both',bottom = False, top = False,labelbottom = False) \n",
    "plt.ylabel(r'(E (keV), index, $J^{\\pi}$)',ha = 'left', y = 1, rotation = 0,labelpad = 0)\n",
    "plt.title(r'5 shortest paths at $\\mathrm{T_9}$: ' + str(T/1e+9))\n",
    "plt.legend(bbox_to_anchor=(0.5,0))\n",
    "plt.tight_layout()\n",
    "plt.show()"
   ]
  }
 ],
 "metadata": {
  "kernelspec": {
   "display_name": "virtual_environment",
   "language": "python",
   "name": "python3"
  },
  "language_info": {
   "codemirror_mode": {
    "name": "ipython",
    "version": 3
   },
   "file_extension": ".py",
   "mimetype": "text/x-python",
   "name": "python",
   "nbconvert_exporter": "python",
   "pygments_lexer": "ipython3",
   "version": "3.12.3"
  }
 },
 "nbformat": 4,
 "nbformat_minor": 4
}
