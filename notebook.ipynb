{
 "cells": [
  {
   "cell_type": "code",
   "execution_count": 1,
   "metadata": {},
   "outputs": [],
   "source": [
    "import numpy as np\n",
    "import lvlspy.spcoll as lc\n",
    "import matplotlib.pyplot as plt"
   ]
  },
  {
   "cell_type": "code",
   "execution_count": 2,
   "metadata": {},
   "outputs": [],
   "source": [
    "def transfer_properties(rate_matrix):\n",
    "    n = len(rate_matrix)\n",
    "    F = np.zeros([n-2,n-2]) #transfer matrix\n",
    "    #transfer regarding 1\n",
    "    f1_in = np.zeros(n-2)\n",
    "    f1_out =np.zeros(n-2)\n",
    "    #transfer regarding 2\n",
    "    f2_in  = np.zeros(n-2)\n",
    "    f2_out = np.zeros(n-2)\n",
    "\n",
    "    #Calculating the rate matrix and transfer arrays\n",
    "    for i in range(len(F)):\n",
    "        f1_in[i] = rate_matrix[0,i+2]/rate_matrix[0,0]\n",
    "        f1_out[i] = rate_matrix[i+2,0]/rate_matrix[i+2,i+2]\n",
    "\n",
    "        f2_in[i] = rate_matrix[1,i+2]/rate_matrix[1,1]\n",
    "        f2_out[i] = rate_matrix[i+2,1]/rate_matrix[i+2,i+2]\n",
    "        for j in range(len(F)):\n",
    "            F[i,j] = rate_matrix[i+2,j+2]/rate_matrix[i+2,i+2]\n",
    "    \n",
    "\n",
    "    return F,f1_in,f1_out,f2_in,f2_out"
   ]
  },
  {
   "cell_type": "code",
   "execution_count": 3,
   "metadata": {},
   "outputs": [
    {
     "ename": "ValueError",
     "evalue": "negative dimensions are not allowed",
     "output_type": "error",
     "traceback": [
      "\u001b[0;31m---------------------------------------------------------------------------\u001b[0m",
      "\u001b[0;31mValueError\u001b[0m                                Traceback (most recent call last)",
      "Cell \u001b[0;32mIn [3], line 14\u001b[0m\n\u001b[1;32m     12\u001b[0m \u001b[39mfor\u001b[39;00m i,t \u001b[39min\u001b[39;00m \u001b[39menumerate\u001b[39m(T):\n\u001b[1;32m     13\u001b[0m     rate_matrix \u001b[39m=\u001b[39m sp\u001b[39m.\u001b[39mcompute_rate_matrix(t)\n\u001b[0;32m---> 14\u001b[0m     F,f1_in,f1_out,f2_in,f2_out \u001b[39m=\u001b[39m transfer_properties(rate_matrix)\n\u001b[1;32m     16\u001b[0m     \u001b[39m#calculating lambda_21_eff\u001b[39;00m\n\u001b[1;32m     17\u001b[0m     dummy \u001b[39m=\u001b[39m np\u001b[39m.\u001b[39mmatmul(np\u001b[39m.\u001b[39mlinalg\u001b[39m.\u001b[39minv(np\u001b[39m.\u001b[39midentity(\u001b[39mlen\u001b[39m(F)) \u001b[39m-\u001b[39m F\u001b[39m.\u001b[39mT),f2_out)\n",
      "Cell \u001b[0;32mIn [2], line 3\u001b[0m, in \u001b[0;36mtransfer_properties\u001b[0;34m(rate_matrix)\u001b[0m\n\u001b[1;32m      1\u001b[0m \u001b[39mdef\u001b[39;00m \u001b[39mtransfer_properties\u001b[39m(rate_matrix):\n\u001b[1;32m      2\u001b[0m     n \u001b[39m=\u001b[39m \u001b[39mlen\u001b[39m(rate_matrix)\n\u001b[0;32m----> 3\u001b[0m     F \u001b[39m=\u001b[39m np\u001b[39m.\u001b[39;49mzeros([n\u001b[39m-\u001b[39;49m\u001b[39m2\u001b[39;49m,n\u001b[39m-\u001b[39;49m\u001b[39m2\u001b[39;49m]) \u001b[39m#transfer matrix\u001b[39;00m\n\u001b[1;32m      4\u001b[0m     \u001b[39m#transfer regarding 1\u001b[39;00m\n\u001b[1;32m      5\u001b[0m     f1_in \u001b[39m=\u001b[39m np\u001b[39m.\u001b[39mzeros(n\u001b[39m-\u001b[39m\u001b[39m2\u001b[39m)\n",
      "\u001b[0;31mValueError\u001b[0m: negative dimensions are not allowed"
     ]
    }
   ],
   "source": [
    "#setup the collection array to read the xml and load the al26 data\n",
    "new_coll = lc.SpColl()\n",
    "new_coll.update_from_xml('example.xml')\n",
    "\n",
    "sp = new_coll.get()['al26']\n",
    "\n",
    "#Temperature Range\n",
    "T = np.linspace(0.1,10)*1e+9\n",
    "lambda_21_eff = np.empty(len(T))\n",
    "lambda_12_eff = np.empty(len(T))\n",
    "\n",
    "for i,t in enumerate(T):\n",
    "    rate_matrix = sp.compute_rate_matrix(t)\n",
    "    F,f1_in,f1_out,f2_in,f2_out = transfer_properties(rate_matrix)\n",
    "    \n",
    "    #calculating lambda_21_eff\n",
    "    dummy = np.matmul(np.linalg.inv(np.identity(len(F)) - F.T),f2_out)\n",
    "    dummy = np.matmul(f1_in.T,dummy)\n",
    "    \n",
    "    lambda_21_eff[i] = dummy*rate_matrix[1,1]\n",
    "    #calculating lambda_12_eff\n",
    "    dummy = np.matmul(np.linalg.inv(np.identity(len(F)) -F.T),f1_out)\n",
    "    dummy = np.matmul(f1_in.T,dummy)\n",
    "\n",
    "    lambda_12_eff[i] = rate_matrix[0,0]*(dummy - 1.0)"
   ]
  },
  {
   "cell_type": "code",
   "execution_count": null,
   "metadata": {},
   "outputs": [],
   "source": [
    "plt.figure(figsize = (12,12))\n",
    "fontsize = 40\n",
    "plt.xscale('log')\n",
    "plt.yscale('log')\n",
    "\n",
    "plt.ylim([1.e-15,1.e+15])\n",
    "plt.xlim([0.1,10])\n",
    "\n",
    "plt.plot(T/1e+9,lambda_21_eff)\n",
    "plt.ylabel(r'$\\lambda_{21}^{eff} (s^{-1})$')\n",
    "plt.xlabel(r'$T_{9}$')\n",
    "plt.axhline(y = 1.e-1,ls = '--',color = 'black')\n",
    "plt.show()"
   ]
  }
 ],
 "metadata": {
  "kernelspec": {
   "display_name": "Python 3.9.2 64-bit",
   "language": "python",
   "name": "python3"
  },
  "language_info": {
   "codemirror_mode": {
    "name": "ipython",
    "version": 3
   },
   "file_extension": ".py",
   "mimetype": "text/x-python",
   "name": "python",
   "nbconvert_exporter": "python",
   "pygments_lexer": "ipython3",
   "version": "3.10.6"
  },
  "orig_nbformat": 4,
  "vscode": {
   "interpreter": {
    "hash": "916dbcbb3f70747c44a77c7bcd40155683ae19c65e1c03b4aa3499c5328201f1"
   }
  }
 },
 "nbformat": 4,
 "nbformat_minor": 2
}
